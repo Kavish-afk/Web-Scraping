{
 "cells": [
  {
   "cell_type": "markdown",
   "id": "b0fc8b79",
   "metadata": {},
   "source": [
    "Name Of the Student: Kavish R Shah"
   ]
  },
  {
   "cell_type": "code",
   "execution_count": 1,
   "id": "15d373c6",
   "metadata": {},
   "outputs": [],
   "source": [
    "import sys\n",
    "import os\n",
    "import requests\n",
    "import re\n",
    "# Code here - Import BeautifulSoup library\n",
    "from bs4 import BeautifulSoup\n",
    "# Code ends here"
   ]
  },
  {
   "cell_type": "code",
   "execution_count": 2,
   "id": "07a96d8f",
   "metadata": {},
   "outputs": [],
   "source": [
    "# function to get the html source text of the medium article\n",
    "def get_page():\n",
    "    global url\n",
    "    \n",
    "    # Code here - Ask the user to input \"Enter url of a medium article: \" and collect it in url\n",
    "    url = input('Enter url of a medium article: ')\n",
    "    # Code ends here\n",
    "\n",
    "    # handling possible error\n",
    "    if not re.match(r'https?://medium.com/', url):\n",
    "        print('Please enter a valid website, or make sure it is a medium article')\n",
    "        sys.exit(1)\n",
    "    # Code here - Call get method in requests object, pass url and collect it in res\n",
    "    res = requests.get(url)\n",
    "    # Code ends here\n",
    "\n",
    "    res.raise_for_status()\n",
    "    soup = BeautifulSoup(res.text, 'html.parser')\n",
    "    return soup"
   ]
  },
  {
   "cell_type": "code",
   "execution_count": 3,
   "id": "ec57674c",
   "metadata": {},
   "outputs": [],
   "source": [
    "# function to remove all the html tags and replace some with specific strings\n",
    "def clean(text):\n",
    "    rep = {\"<br>\": \"\\n\", \"<br/>\": \"\\n\", \"<li>\":  \"\\n\"}\n",
    "    rep = dict((re.escape(k), v) for k, v in rep.items())\n",
    "    pattern = re.compile(\"|\".join(rep.keys()))\n",
    "    text = pattern.sub(lambda m: rep[re.escape(m.group(0))], text)\n",
    "    text = re.sub('\\<(.*?)\\>', '', text)\n",
    "    return text\n",
    "def collect_text(soup):\n",
    "    text = f'url: {url}\\n\\n'\n",
    "    para_text = soup.find_all('p')\n",
    "    print(f\"paragraphs text = \\n {para_text}\")\n",
    "    for para in para_text:\n",
    "        text += f\"{para.text}\\n\\n\"\n",
    "    return text"
   ]
  },
  {
   "cell_type": "code",
   "execution_count": 4,
   "id": "9ba8b6d7",
   "metadata": {},
   "outputs": [],
   "source": [
    "# function to save file in the current directory\n",
    "def save_file(text):\n",
    "    if not os.path.exists('./scraped_articles'):\n",
    "        os.mkdir('./scraped_articles')\n",
    "    name = url.split(\"/\")[-1]\n",
    "    print(name)\n",
    "    fname = f'scraped_articles/{name}.txt'\n",
    "    # Code here - write a file using with (2 lines)\n",
    "    with open(fname, 'w') as f:\n",
    "        f.write(text)\n",
    "    # Code ends here\n",
    "\n",
    "    print(f'File saved in directory {fname}')"
   ]
  },
  {
   "cell_type": "code",
   "execution_count": 5,
   "id": "afc806ff",
   "metadata": {},
   "outputs": [],
   "source": [
    "  if __name__ == '__main__':\n",
    "      text = collect_text(get_page())\n",
    "      save_file(text)\n",
    "    # Instructions to Run this python code\n",
    "    # Give url as https://medium.com/@subashgandyer/papa-what-is-a-neural-network-c5e5cc427c7"
   ]
  },
  {
   "cell_type": "code",
   "execution_count": null,
   "id": "08e86313",
   "metadata": {},
   "outputs": [],
   "source": []
  }
 ],
 "metadata": {
  "kernelspec": {
   "display_name": "Python 3 (ipykernel)",
   "language": "python",
   "name": "python3"
  },
  "language_info": {
   "codemirror_mode": {
    "name": "ipython",
    "version": 3
   },
   "file_extension": ".py",
   "mimetype": "text/x-python",
   "name": "python",
   "nbconvert_exporter": "python",
   "pygments_lexer": "ipython3",
   "version": "3.8.12"
  }
 },
 "nbformat": 4,
 "nbformat_minor": 5
}
